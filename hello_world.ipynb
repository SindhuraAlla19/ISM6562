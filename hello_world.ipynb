{
 "cells": [
  {
   "attachments": {},
   "cell_type": "markdown",
   "metadata": {},
   "source": [
    "Engineer, Physicist and Statistician goes for hunting. They saw a deer and each of them tries to use tbeir skills to hunt the deer\n",
    "1. Engineer creates a device that will shoot the arrow by properly aiming at the deer. Device aims to improve accuracy. He misses the deer and arrow shoots to the left\n",
    "2. Physicist calculates distance, wind direction and velocity required to improve accuracy. His arrow shoots to the right of the deer.\n",
    "3. Statistician turns to engineer and physicist and says he shot the deer (Mean of left + right = center)"
   ]
  }
 ],
 "metadata": {
  "language_info": {
   "name": "python"
  },
  "orig_nbformat": 4
 },
 "nbformat": 4,
 "nbformat_minor": 2
}
